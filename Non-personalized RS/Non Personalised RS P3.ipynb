{
 "cells": [
  {
   "cell_type": "code",
   "execution_count": 8,
   "metadata": {
    "scrolled": true
   },
   "outputs": [],
   "source": [
    "import pandas as pd\n",
    "import numpy as np\n",
    "\n",
    "Ratings=pd.read_csv(\"C:/Users/tomar/OneDrive/Desktop/Recommender system/ratings.csv\",encoding=\"ISO-8859-1\")\n",
    "Movies=pd.read_csv(\"C:/Users/tomar/OneDrive/Desktop/Recommender system/movies.csv\",encoding=\"ISO-8859-1\")\n",
    "Tags=pd.read_csv(\"C:/Users/tomar/OneDrive/Desktop/Recommender system/tags.csv\",encoding=\"ISO-8859-1\")\n",
    "\n",
    "Ratings_mean=Ratings.groupby(['movieId'])[['rating']].mean().rename(columns = {'rating': 'Mean_rating'}).reset_index()\n",
    "\n",
    "# Calculating damped mean using alpha = 5\n",
    "\n",
    "Ratings_sum=Ratings.groupby(['movieId'])[['rating']].sum().rename(columns = {'rating': 'sum_rating'}).reset_index()\n",
    "Ratings_sum['sum_rating_factor']=Ratings_sum['sum_rating']+5*(Ratings[\"rating\"].mean())\n",
    "\n",
    "Ratings_count=Ratings.groupby(['movieId'])[['rating']].count().rename(columns = {'rating': 'count_rating'}).reset_index()\n",
    "Ratings_count['count_rating_factor']=Ratings_count['count_rating']+5\n",
    "\n",
    "Ratings_damped=pd.merge(Ratings_sum,Ratings_count[['movieId','count_rating','count_rating_factor']],on=['movieId'],how='left')\n",
    "Ratings_damped['damped_mean']=Ratings_damped['sum_rating_factor']/Ratings_damped['count_rating_factor']\n",
    "Ratings_mean_dampmean=pd.merge(Ratings_mean[['movieId','Mean_rating']],Ratings_damped[['movieId','damped_mean']],on=['movieId'],how='left')\n",
    "\n",
    "# Sorting to get top rated movies\n",
    "\n",
    "Ratings_mean_dampmean = Ratings_mean_dampmean.sort_values(['Mean_rating'], ascending=False)"
   ]
  },
  {
   "cell_type": "code",
   "execution_count": 13,
   "metadata": {
    "scrolled": true
   },
   "outputs": [
    {
     "data": {
      "text/html": [
       "<div>\n",
       "<style scoped>\n",
       "    .dataframe tbody tr th:only-of-type {\n",
       "        vertical-align: middle;\n",
       "    }\n",
       "\n",
       "    .dataframe tbody tr th {\n",
       "        vertical-align: top;\n",
       "    }\n",
       "\n",
       "    .dataframe thead th {\n",
       "        text-align: right;\n",
       "    }\n",
       "</style>\n",
       "<table border=\"1\" class=\"dataframe\">\n",
       "  <thead>\n",
       "    <tr style=\"text-align: right;\">\n",
       "      <th></th>\n",
       "      <th>movieId</th>\n",
       "      <th>Mean_rating</th>\n",
       "      <th>damped_mean</th>\n",
       "      <th>diff</th>\n",
       "    </tr>\n",
       "  </thead>\n",
       "  <tbody>\n",
       "    <tr>\n",
       "      <th>591</th>\n",
       "      <td>1203</td>\n",
       "      <td>4.246032</td>\n",
       "      <td>4.226909</td>\n",
       "      <td>0.019123</td>\n",
       "    </tr>\n",
       "  </tbody>\n",
       "</table>\n",
       "</div>"
      ],
      "text/plain": [
       "     movieId  Mean_rating  damped_mean      diff\n",
       "591     1203     4.246032     4.226909  0.019123"
      ]
     },
     "execution_count": 13,
     "metadata": {},
     "output_type": "execute_result"
    }
   ],
   "source": [
    "Ratings_mean_dampmean[Ratings_mean_dampmean['movieId']==1203]"
   ]
  },
  {
   "cell_type": "markdown",
   "metadata": {},
   "source": [
    "## Association based recommendation"
   ]
  },
  {
   "cell_type": "code",
   "execution_count": 27,
   "metadata": {
    "scrolled": true
   },
   "outputs": [
    {
     "name": "stdout",
     "output_type": "stream",
     "text": [
      "movie:  1 out of:  2500\n",
      "500\n",
      "1000\n",
      "1500\n",
      "2000\n",
      "2500\n"
     ]
    }
   ],
   "source": [
    "import pandas as pd\n",
    "import numpy as np\n",
    "\n",
    "Ratings=pd.read_csv(\"C:/Users/tomar/OneDrive/Desktop/Recommender system/ratings.csv\",encoding=\"ISO-8859-1\")\n",
    "Movies=pd.read_csv(\"C:/Users/tomar/OneDrive/Desktop/Recommender system/movies.csv\",encoding=\"ISO-8859-1\")\n",
    "Tags=pd.read_csv(\"C:/Users/tomar/OneDrive/Desktop/Recommender system/tags.csv\",encoding=\"ISO-8859-1\")\n",
    "\n",
    "movie_association = pd.DataFrame(columns=['movieId','movieId1','association'])\n",
    "\n",
    "distinct_movies=np.unique(Ratings['movieId'])\n",
    "i=1\n",
    "\n",
    "#enter movie ID for analysis\n",
    "movieID = 260\n",
    "\n",
    "movie_index = distinct_movies.tolist().index(movieID)\n",
    "\n",
    "for movie in distinct_movies[movie_index: movie_index +1]:\n",
    "    movie_data=Ratings[Ratings['movieId']==movie]\n",
    "    print (\"movie: \", i , \"out of: \", len(distinct_movies))\n",
    "    j=1   \n",
    "    for movie1 in distinct_movies:\n",
    "        \n",
    "        movie1_data=Ratings[Ratings['movieId']==movie1]\n",
    "        distinct_cust=len(np.unique(movie_data['userId']))\n",
    "        movie2_data=movie1_data[movie1_data['userId'].isin(np.unique([movie_data['userId']]))]\n",
    "        distinct_cust_common=len(np.unique(movie2_data['userId']))\n",
    "        fraction_common_cust=float(distinct_cust_common)/float(distinct_cust)\n",
    "        \n",
    "        \n",
    "        movie_temp=pd.DataFrame(columns=['movieId','movieId1','association'])\n",
    "        \n",
    "        movie_temp = movie_temp.append({\n",
    "        \"movieId\": movie,\n",
    "        \"movieId1\":  movie1,\n",
    "        \"association\":  fraction_common_cust      \n",
    "        }, ignore_index=True)\n",
    "        \n",
    "        \n",
    "        movie_association = movie_association.append(movie_temp, ignore_index=True)\n",
    "        if j%500==0:\n",
    "            print (j)\n",
    "        j=j+1\n",
    "        \n",
    "    i=i+1\n",
    "movie_association = movie_association.sort_values(['association'], ascending=False)"
   ]
  },
  {
   "cell_type": "code",
   "execution_count": 31,
   "metadata": {},
   "outputs": [
    {
     "name": "stdout",
     "output_type": "stream",
     "text": [
      "movie:  1 out of:  2500\n",
      "500\n",
      "1000\n",
      "1500\n",
      "2000\n",
      "2500\n"
     ]
    }
   ],
   "source": [
    "import pandas as pd\n",
    "import numpy as np\n",
    "\n",
    "Ratings=pd.read_csv(\"C:/Users/tomar/OneDrive/Desktop/Recommender system/ratings.csv\",encoding=\"ISO-8859-1\")\n",
    "Movies=pd.read_csv(\"C:/Users/tomar/OneDrive/Desktop/Recommender system/movies.csv\",encoding=\"ISO-8859-1\")\n",
    "Tags=pd.read_csv(\"C:/Users/tomar/OneDrive/Desktop/Recommender system/tags.csv\",encoding=\"ISO-8859-1\")\n",
    "\n",
    "movie_association = pd.DataFrame(columns=['movieId','movieId1','association'])\n",
    "\n",
    "distinct_movies=np.unique(Ratings['movieId'])\n",
    "i=1\n",
    "\n",
    "#enter movie ID for analysis\n",
    "movieID = 260\n",
    "\n",
    "movie_index = distinct_movies.tolist().index(movieID)\n",
    "\n",
    "\n",
    "for movie in distinct_movies[1284:1285]:\n",
    "    movie_data=Ratings[Ratings['movieId']==movie]\n",
    "    print (\"movie: \", i , \"out of: \", len(distinct_movies))\n",
    "    j=1   \n",
    "    for movie1 in distinct_movies:\n",
    "        \n",
    "        movie1_data=Ratings[Ratings['movieId']==movie1]\n",
    "        distinct_cust=len(np.unique(movie_data['userId']))\n",
    "        distinct_cust1=len(np.unique(movie1_data['userId']))\n",
    "        movie2_data=movie1_data[movie1_data['userId'].isin(np.unique([movie_data['userId']]))]\n",
    "        distinct_cust_common=len(np.unique(movie2_data['userId']))\n",
    "        fraction_common_cust=(float(distinct_cust_common)*len(np.unique(Ratings['userId'])))/(float(distinct_cust)*float(distinct_cust1))\n",
    "        \n",
    "        \n",
    "        movie_temp=pd.DataFrame(columns=['movieId','movieId1','association'])\n",
    "        \n",
    "        movie_temp = movie_temp.append({\n",
    "        \"movieId\": movie,\n",
    "        \"movieId1\":  movie1,\n",
    "        \"association\":  fraction_common_cust      \n",
    "        }, ignore_index=True)\n",
    "        \n",
    "        \n",
    "        movie_association = movie_association.append(movie_temp, ignore_index=True)\n",
    "        if j%500==0:\n",
    "            print (j)\n",
    "        j=j+1\n",
    "        \n",
    "    i=i+1\n",
    "movie_association = movie_association.sort_values(['association'], ascending=False)"
   ]
  },
  {
   "cell_type": "code",
   "execution_count": null,
   "metadata": {},
   "outputs": [],
   "source": []
  }
 ],
 "metadata": {
  "kernelspec": {
   "display_name": "Python 3",
   "language": "python",
   "name": "python3"
  },
  "language_info": {
   "codemirror_mode": {
    "name": "ipython",
    "version": 3
   },
   "file_extension": ".py",
   "mimetype": "text/x-python",
   "name": "python",
   "nbconvert_exporter": "python",
   "pygments_lexer": "ipython3",
   "version": "3.6.4"
  }
 },
 "nbformat": 4,
 "nbformat_minor": 2
}
